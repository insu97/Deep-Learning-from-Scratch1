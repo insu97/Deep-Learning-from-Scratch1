{
  "nbformat": 4,
  "nbformat_minor": 0,
  "metadata": {
    "colab": {
      "provenance": [],
      "authorship_tag": "ABX9TyOYjJu2Y+aV6b1J9S1u8HH+",
      "include_colab_link": true
    },
    "kernelspec": {
      "name": "python3",
      "display_name": "Python 3"
    },
    "language_info": {
      "name": "python"
    }
  },
  "cells": [
    {
      "cell_type": "markdown",
      "metadata": {
        "id": "view-in-github",
        "colab_type": "text"
      },
      "source": [
        "<a href=\"https://colab.research.google.com/github/insu97/Deep-Learning-from-Scratch1/blob/main/03_%EC%8B%A0%EA%B2%BD%EB%A7%9D.ipynb\" target=\"_parent\"><img src=\"https://colab.research.google.com/assets/colab-badge.svg\" alt=\"Open In Colab\"/></a>"
      ]
    },
    {
      "cell_type": "markdown",
      "source": [
        "# 활성화 함수(activation function) : 입력 신호의 총합을 출력 신호로 변환하는 함수"
      ],
      "metadata": {
        "id": "bXrosf45SBHw"
      }
    },
    {
      "cell_type": "code",
      "source": [],
      "metadata": {
        "id": "OVjTVdkNSVZi"
      },
      "execution_count": null,
      "outputs": []
    }
  ]
}